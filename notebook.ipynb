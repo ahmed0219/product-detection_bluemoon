{
  "nbformat": 4,
  "nbformat_minor": 0,
  "metadata": {
    "colab": {
      "provenance": []
    },
    "kernelspec": {
      "name": "python3",
      "display_name": "Python 3"
    },
    "language_info": {
      "name": "python"
    }
  },
  "cells": [
    {
      "cell_type": "code",
      "execution_count": 24,
      "metadata": {
        "id": "aq6WRt26G6OY"
      },
      "outputs": [],
      "source": [
        "import tensorflow as tf\n",
        "from tensorflow.keras.preprocessing.image import ImageDataGenerator\n",
        "from tensorflow.keras.models import Sequential\n",
        "from tensorflow.keras.layers import Dense, Flatten, Dropout\n",
        "from tensorflow.keras.applications import VGG16\n",
        "from tensorflow.keras.optimizers import RMSprop\n",
        "import numpy as np"
      ]
    },
    {
      "cell_type": "code",
      "source": [
        "import tensorflow as tf\n",
        "from tensorflow.keras.preprocessing.image import ImageDataGenerator\n",
        "from tensorflow.keras.models import Sequential\n",
        "from tensorflow.keras.layers import Conv2D, MaxPooling2D, Flatten, Dense\n",
        "\n",
        "train_data_dir = '/content/drive/MyDrive/train'\n",
        "test_data_dir = '/content/drive/MyDrive/test'\n",
        "\n"
      ],
      "metadata": {
        "id": "j3CdBBbWH_4l",
        "colab": {
          "base_uri": "https://localhost:8080/"
        },
        "outputId": "18bccd72-189d-4ba0-9075-9348fd55e977"
      },
      "execution_count": 3,
      "outputs": [
        {
          "output_type": "stream",
          "name": "stdout",
          "text": [
            "Found 242 images belonging to 4 classes.\n",
            "Found 83 images belonging to 4 classes.\n",
            "Epoch 1/10\n",
            "7/7 [==============================] - 65s 10s/step - loss: 0.7533 - accuracy: 0.7333 - val_loss: 2.0879 - val_accuracy: 0.2812\n",
            "Epoch 2/10\n",
            "7/7 [==============================] - 19s 3s/step - loss: 0.6013 - accuracy: 0.8571 - val_loss: 1.9433 - val_accuracy: 0.2656\n",
            "Epoch 3/10\n",
            "7/7 [==============================] - 21s 3s/step - loss: 0.5705 - accuracy: 0.8616 - val_loss: 2.5871 - val_accuracy: 0.2344\n",
            "Epoch 4/10\n",
            "7/7 [==============================] - 19s 3s/step - loss: 0.5755 - accuracy: 0.8619 - val_loss: 2.6583 - val_accuracy: 0.2500\n",
            "Epoch 5/10\n",
            "7/7 [==============================] - 18s 3s/step - loss: 0.5100 - accuracy: 0.8667 - val_loss: 2.1240 - val_accuracy: 0.2344\n",
            "Epoch 6/10\n",
            "7/7 [==============================] - 22s 3s/step - loss: 0.5116 - accuracy: 0.8661 - val_loss: 1.9808 - val_accuracy: 0.2500\n",
            "Epoch 7/10\n",
            "7/7 [==============================] - 20s 3s/step - loss: 0.4088 - accuracy: 0.8619 - val_loss: 1.8273 - val_accuracy: 0.2500\n",
            "Epoch 8/10\n",
            "7/7 [==============================] - 21s 3s/step - loss: 0.2848 - accuracy: 0.9190 - val_loss: 1.8404 - val_accuracy: 0.4844\n",
            "Epoch 9/10\n",
            "7/7 [==============================] - 21s 3s/step - loss: 0.2235 - accuracy: 0.9381 - val_loss: 1.5138 - val_accuracy: 0.5625\n",
            "Epoch 10/10\n",
            "7/7 [==============================] - 20s 3s/step - loss: 0.2011 - accuracy: 0.9524 - val_loss: 0.9173 - val_accuracy: 0.6719\n",
            "3/3 - 5s - loss: 0.9896 - accuracy: 0.6145 - 5s/epoch - 2s/step\n",
            "Test accuracy: 0.6144578456878662\n"
          ]
        },
        {
          "output_type": "stream",
          "name": "stderr",
          "text": [
            "/usr/local/lib/python3.10/dist-packages/keras/src/engine/training.py:3103: UserWarning: You are saving your model as an HDF5 file via `model.save()`. This file format is considered legacy. We recommend using instead the native Keras format, e.g. `model.save('my_model.keras')`.\n",
            "  saving_api.save_model(\n"
          ]
        }
      ]
    },
    {
      "cell_type": "code",
      "source": [
        "# Image parameters\n",
        "image_height = 150\n",
        "image_width = 150\n",
        "batch_size = 32\n",
        "epochs = 10"
      ],
      "metadata": {
        "id": "Y88oFQzMThQK"
      },
      "execution_count": 12,
      "outputs": []
    },
    {
      "cell_type": "code",
      "source": [
        "# Data loading and preprocessing\n",
        "train_datagen = ImageDataGenerator(rescale=1./255)\n",
        "test_datagen = ImageDataGenerator(rescale=1./255)\n",
        "\n",
        "train_generator = train_datagen.flow_from_directory(\n",
        "    train_data_dir,\n",
        "    target_size=(image_height, image_width),\n",
        "    batch_size=batch_size,\n",
        "    class_mode='categorical')\n",
        "\n",
        "validation_generator = test_datagen.flow_from_directory(\n",
        "    test_data_dir,\n",
        "    target_size=(image_height, image_width),\n",
        "    batch_size=batch_size,\n",
        "    class_mode='categorical')"
      ],
      "metadata": {
        "colab": {
          "base_uri": "https://localhost:8080/"
        },
        "id": "K2IE82fTTlYj",
        "outputId": "9423ad08-340d-4744-f35b-81ebec473046"
      },
      "execution_count": 14,
      "outputs": [
        {
          "output_type": "stream",
          "name": "stdout",
          "text": [
            "Found 242 images belonging to 4 classes.\n",
            "Found 83 images belonging to 4 classes.\n"
          ]
        }
      ]
    },
    {
      "cell_type": "code",
      "source": [
        "# Model architecture\n",
        "model = Sequential([\n",
        "    Conv2D(32, (3, 3), activation='relu', input_shape=(image_height, image_width, 3)),\n",
        "    MaxPooling2D((2, 2)),\n",
        "    Conv2D(64, (3, 3), activation='relu'),\n",
        "    MaxPooling2D((2, 2)),\n",
        "    Conv2D(128, (3, 3), activation='relu'),\n",
        "    MaxPooling2D((2, 2)),\n",
        "    Flatten(),\n",
        "    Dense(128, activation='relu'),\n",
        "    Dense(4, activation='softmax')\n",
        "])"
      ],
      "metadata": {
        "id": "VnmsQcKRTqfh"
      },
      "execution_count": 16,
      "outputs": []
    },
    {
      "cell_type": "code",
      "source": [
        "model.compile(optimizer='adam',\n",
        "              loss='categorical_crossentropy',\n",
        "              metrics=['accuracy'])"
      ],
      "metadata": {
        "id": "0-k2tNvUTzn6"
      },
      "execution_count": 17,
      "outputs": []
    },
    {
      "cell_type": "code",
      "source": [
        "# Model training\n",
        "history = model.fit(\n",
        "    train_generator,\n",
        "    steps_per_epoch=train_generator.samples // batch_size,\n",
        "    epochs=epochs,\n",
        "    validation_data=validation_generator,\n",
        "    validation_steps=validation_generator.samples // batch_size)"
      ],
      "metadata": {
        "colab": {
          "base_uri": "https://localhost:8080/"
        },
        "id": "rFfdw98AT6Sm",
        "outputId": "e43424d9-3ddf-4c3d-e157-9403a06cc1e1"
      },
      "execution_count": 18,
      "outputs": [
        {
          "output_type": "stream",
          "name": "stdout",
          "text": [
            "Epoch 1/10\n",
            "7/7 [==============================] - 24s 3s/step - loss: 0.7042 - accuracy: 0.8476 - val_loss: 2.2477 - val_accuracy: 0.2500\n",
            "Epoch 2/10\n",
            "7/7 [==============================] - 20s 3s/step - loss: 0.5787 - accuracy: 0.8571 - val_loss: 1.8204 - val_accuracy: 0.2344\n",
            "Epoch 3/10\n",
            "7/7 [==============================] - 24s 3s/step - loss: 0.5631 - accuracy: 0.8619 - val_loss: 4.1927 - val_accuracy: 0.1719\n",
            "Epoch 4/10\n",
            "7/7 [==============================] - 18s 3s/step - loss: 0.5433 - accuracy: 0.8714 - val_loss: 1.9501 - val_accuracy: 0.2031\n",
            "Epoch 5/10\n",
            "7/7 [==============================] - 20s 3s/step - loss: 0.5525 - accuracy: 0.8714 - val_loss: 2.6217 - val_accuracy: 0.2656\n",
            "Epoch 6/10\n",
            "7/7 [==============================] - 21s 3s/step - loss: 0.5658 - accuracy: 0.8571 - val_loss: 2.2784 - val_accuracy: 0.2500\n",
            "Epoch 7/10\n",
            "7/7 [==============================] - 20s 3s/step - loss: 0.5017 - accuracy: 0.8667 - val_loss: 2.5679 - val_accuracy: 0.2500\n",
            "Epoch 8/10\n",
            "7/7 [==============================] - 20s 3s/step - loss: 0.4965 - accuracy: 0.8619 - val_loss: 2.0924 - val_accuracy: 0.2656\n",
            "Epoch 9/10\n",
            "7/7 [==============================] - 20s 3s/step - loss: 0.4034 - accuracy: 0.8762 - val_loss: 1.2072 - val_accuracy: 0.4531\n",
            "Epoch 10/10\n",
            "7/7 [==============================] - 21s 3s/step - loss: 0.2965 - accuracy: 0.9095 - val_loss: 1.3750 - val_accuracy: 0.5938\n"
          ]
        }
      ]
    },
    {
      "cell_type": "code",
      "source": [
        "# Save the model\n",
        "model.save('product_defect_detection_model.h5')"
      ],
      "metadata": {
        "colab": {
          "base_uri": "https://localhost:8080/"
        },
        "id": "RC6OMeP9UGqJ",
        "outputId": "5658f31a-8428-4773-e8a8-ce741b07b4a1"
      },
      "execution_count": 19,
      "outputs": [
        {
          "output_type": "stream",
          "name": "stderr",
          "text": [
            "/usr/local/lib/python3.10/dist-packages/keras/src/engine/training.py:3103: UserWarning: You are saving your model as an HDF5 file via `model.save()`. This file format is considered legacy. We recommend using instead the native Keras format, e.g. `model.save('my_model.keras')`.\n",
            "  saving_api.save_model(\n"
          ]
        }
      ]
    },
    {
      "cell_type": "code",
      "source": [
        "# Model evaluation\n",
        "test_loss, test_acc = model.evaluate(validation_generator, verbose=2)\n",
        "print('Test accuracy:', test_acc)"
      ],
      "metadata": {
        "colab": {
          "base_uri": "https://localhost:8080/"
        },
        "id": "vibX5mBFT9Ma",
        "outputId": "9fe38e58-dddb-4f72-d885-ec5d34bfcc70"
      },
      "execution_count": 20,
      "outputs": [
        {
          "output_type": "stream",
          "name": "stdout",
          "text": [
            "3/3 - 4s - loss: 1.3721 - accuracy: 0.5904 - 4s/epoch - 1s/step\n",
            "Test accuracy: 0.5903614163398743\n"
          ]
        }
      ]
    },
    {
      "cell_type": "code",
      "source": [
        "import matplotlib.pyplot as plt\n",
        "plt.plot(history.history['accuracy'], label='Training Accuracy')\n",
        "plt.plot(history.history['val_accuracy'], label='Validation Accuracy')\n",
        "plt.xlabel('Epoch')\n",
        "plt.ylabel('Accuracy')\n",
        "plt.legend()\n",
        "plt.title('Training and Validation Accuracy')\n",
        "plt.show()"
      ],
      "metadata": {
        "colab": {
          "base_uri": "https://localhost:8080/",
          "height": 472
        },
        "id": "5ijB0npEKNuE",
        "outputId": "fd1cce96-3a0a-4e4a-ad96-dc2b91968c4b"
      },
      "execution_count": 21,
      "outputs": [
        {
          "output_type": "display_data",
          "data": {
            "text/plain": [
              "<Figure size 640x480 with 1 Axes>"
            ],
            "image/png": "[encoded data removed]"
          },
          "metadata": {}
        }
      ]
    },
    {
      "cell_type": "code",
      "source": [
        "test_loss, test_acc = model.evaluate(validation_generator, verbose=2)\n",
        "print('Test accuracy:', test_acc)"
      ],
      "metadata": {
        "colab": {
          "base_uri": "https://localhost:8080/"
        },
        "id": "P_WtFr63PCJm",
        "outputId": "94ef061b-99f3-4605-e021-67837daa6213"
      },
      "execution_count": 22,
      "outputs": [
        {
          "output_type": "stream",
          "name": "stdout",
          "text": [
            "3/3 - 3s - loss: 1.3721 - accuracy: 0.5904 - 3s/epoch - 1s/step\n",
            "Test accuracy: 0.5903614163398743\n"
          ]
        }
      ]
    },
    {
      "cell_type": "code",
      "source": [
        "# Load the trained model\n",
        "model = load_model('product_defect_detection_model.h5')\n",
        "\n",
        "# Define a function for real-time inference\n",
        "def predict_defect(image_path):\n",
        "    img = image.load_img(\"/content/drive/MyDrive/test/broken_small/001.png\", target_size=(150, 150))\n",
        "    img_array = image.img_to_array(img)\n",
        "    img_array = np.expand_dims(img_array, axis=0)\n",
        "    img_array /= 255.\n",
        "\n",
        "    prediction = model.predict(img_array)\n",
        "    defect_classes = ['broken_large', 'broke_small', 'contaminous', 'good']\n",
        "    predicted_class = defect_classes[np.argmax(prediction)]\n",
        "\n",
        "    return predicted_class\n",
        "\n",
        "# Simulate real-time data input (replace this with actual data acquisition)\n",
        "def simulate_production_line():\n",
        "    # Simulate image paths, replace these with actual image paths\n",
        "    image_paths = ['path_to_image1.jpg', 'path_to_image2.jpg', 'path_to_image3.jpg']\n",
        "\n",
        "    for img_path in image_paths:\n",
        "        predicted_class = predict_defect(img_path)\n",
        "        print(f\"Image: {img_path} | Predicted Defect Class: {predicted_class}\")\n",
        "        time.sleep(1)  # Simulate processing time\n",
        "\n",
        "# Run the production line simulation\n",
        "simulate_production_line()\n",
        "\n",
        "# Assume feedback collection and model iteration happen separately based on collected data\n",
        "# For simplicity, this example does not include the actual feedback loop implementation\n"
      ],
      "metadata": {
        "colab": {
          "base_uri": "https://localhost:8080/"
        },
        "id": "5C7kHUFoOMtz",
        "outputId": "15d8aae6-493b-4277-e867-bf2922daa2ae"
      },
      "execution_count": 28,
      "outputs": [
        {
          "output_type": "stream",
          "name": "stderr",
          "text": [
            "WARNING:tensorflow:5 out of the last 13 calls to <function Model.make_predict_function.<locals>.predict_function at 0x7c247c967130> triggered tf.function retracing. Tracing is expensive and the excessive number of tracings could be due to (1) creating @tf.function repeatedly in a loop, (2) passing tensors with different shapes, (3) passing Python objects instead of tensors. For (1), please define your @tf.function outside of the loop. For (2), @tf.function has reduce_retracing=True option that can avoid unnecessary retracing. For (3), please refer to https://www.tensorflow.org/guide/function#controlling_retracing and https://www.tensorflow.org/api_docs/python/tf/function for  more details.\n"
          ]
        },
        {
          "output_type": "stream",
          "name": "stdout",
          "text": [
            "1/1 [==============================] - 0s 374ms/step\n",
            "Image: path_to_image1.jpg | Predicted Defect Class: broke_small\n",
            "1/1 [==============================] - 0s 33ms/step\n",
            "Image: path_to_image2.jpg | Predicted Defect Class: broke_small\n",
            "1/1 [==============================] - 0s 55ms/step\n",
            "Image: path_to_image3.jpg | Predicted Defect Class: broke_small\n"
          ]
        }
      ]
    },
    {
      "cell_type": "code",
      "source": [],
      "metadata": {
        "id": "28q09aU5ImbZ"
      },
      "execution_count": null,
      "outputs": []
    }
  ]
}